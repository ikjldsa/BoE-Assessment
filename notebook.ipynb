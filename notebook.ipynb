{
 "cells": [
  {
   "cell_type": "markdown",
   "id": "c4a4b1e3",
   "metadata": {},
   "source": [
    "# Technical Assessment (all areas) – Data Scientist - 006191\n",
    "A Supervision Manager has asked you to help in allocating scarce resources, and identify which firms\n",
    "their team should focus on. Supervisory resource may be allocated according to the following\n",
    "characteristics:\n",
    "* Firm size (i.e. the biggest firms need more attention)\n",
    "* Changing business profile (are firms’ data changing substantially year-on-year?)\n",
    "* Outliers from the norm (when looking at a single reporting period, does a firm deviate significantly from the average?)Some typical metrics have been provided in the attached data sheets. These include:\n",
    "* Gross Written Premium (GWP) – total revenue written by an insurer. Equivalent of turnover for a non-insurance firm.\n",
    "* Net Written Premium (NWP) – GWP less reinsurance. NWP / GWP will show how much of the firm’s risk is being passed on to reinsurers.\n",
    "* SCR coverage ratio – a measure of whether a firm is meeting its prudential capital requirements. Greater than 100% means the firm is holding enough capital to meet the requirement. The size of the buffer (i.e. surplus over 100%) can be important.\n",
    "* Gross claims incurred – a large cost to an insurer. Monitoring how these change over timefor a firm is vital.\n",
    "* Net combined ratio – (incurred losses plus expenses) / earned premiums. This is a ratio that can indicate the profitability of a firm. If this is less than 100% it indicates a profit.\n",
    "# Task I\n",
    "Using the data provided, please analyse this data using a programming language of your choosing and produce a short report, including tables and charts, to highlight which firms should receive the most attention, according to the metrics above.\n",
    "# Task II\n",
    "Please consider using relevant ML techniques to draw out further insights and present them as an\n",
    "annex to your report.\n",
    "\n",
    "# Notes:\n",
    "* More metrics have been provided in the data than are necessary to include. Feel free to\n",
    "utilise these as you wish, but it is not necessary to use all metrics.\n",
    "* The data have been anonymised using a random multiplier. As such, there may be some\n",
    "unexpected patterns in the data. "
   ]
  },
  {
   "cell_type": "markdown",
   "id": "38ed93ff",
   "metadata": {},
   "source": [
    "# Package installtion and loading"
   ]
  },
  {
   "cell_type": "code",
   "execution_count": 2,
   "id": "ce509dab",
   "metadata": {},
   "outputs": [
    {
     "name": "stderr",
     "output_type": "stream",
     "text": [
      "Installing package into 'C:/Users/ben/Documents/R/win-library/3.6'\n",
      "(as 'lib' is unspecified)\n",
      "also installing the dependency 'xlsxjars'\n",
      "\n"
     ]
    },
    {
     "name": "stdout",
     "output_type": "stream",
     "text": [
      "package 'xlsxjars' successfully unpacked and MD5 sums checked\n",
      "package 'xlsx' successfully unpacked and MD5 sums checked\n",
      "\n",
      "The downloaded binary packages are in\n",
      "\tC:\\Users\\ben\\AppData\\Local\\Temp\\RtmpSqrJvb\\downloaded_packages\n"
     ]
    }
   ],
   "source": [
    "install.packages(\"xlsx\")"
   ]
  },
  {
   "cell_type": "code",
   "execution_count": 4,
   "id": "b1cf14eb",
   "metadata": {
    "scrolled": true
   },
   "outputs": [],
   "source": [
    "library(xlsx)\n",
    "setwd(\"c\")"
   ]
  },
  {
   "cell_type": "code",
   "execution_count": 10,
   "id": "de535a65",
   "metadata": {},
   "outputs": [
    {
     "ename": "ERROR",
     "evalue": "Error in read.xlsx(\"Data for technical assessment.xlsx\", sheet = \"Dataset 1 - General\"): argument 2 matches multiple formal arguments\n",
     "output_type": "error",
     "traceback": [
      "Error in read.xlsx(\"Data for technical assessment.xlsx\", sheet = \"Dataset 1 - General\"): argument 2 matches multiple formal arguments\nTraceback:\n"
     ]
    }
   ],
   "source": [
    "df <- read.xlsx(\"Data for technical assessment.xlsx\", sheet = \"Dataset 1 - General\")"
   ]
  },
  {
   "cell_type": "code",
   "execution_count": null,
   "id": "73fc6e03",
   "metadata": {},
   "outputs": [],
   "source": []
  }
 ],
 "metadata": {
  "kernelspec": {
   "display_name": "R",
   "language": "R",
   "name": "ir"
  },
  "language_info": {
   "codemirror_mode": "r",
   "file_extension": ".r",
   "mimetype": "text/x-r-source",
   "name": "R",
   "pygments_lexer": "r",
   "version": "3.6.1"
  }
 },
 "nbformat": 4,
 "nbformat_minor": 5
}
