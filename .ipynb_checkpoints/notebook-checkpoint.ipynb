{
 "cells": [
  {
   "cell_type": "markdown",
   "id": "50516ddf",
   "metadata": {},
   "source": [
    "# Technical Assessment (all areas) – Data Scientist - 006191\n",
    "A Supervision Manager has asked you to help in allocating scarce resources, and identify which firms\n",
    "their team should focus on. Supervisory resource may be allocated according to the following\n",
    "characteristics:\n",
    "* Firm size (i.e. the biggest firms need more attention)\n",
    "* Changing business profile (are firms’ data changing substantially year-on-year?)\n",
    "* Outliers from the norm (when looking at a single reporting period, does a firm deviate significantly from the average?)Some typical metrics have been provided in the attached data sheets. These include:\n",
    "* Gross Written Premium (GWP) – total revenue written by an insurer. Equivalent of turnover for a non-insurance firm.\n",
    "* Net Written Premium (NWP) – GWP less reinsurance. NWP / GWP will show how much of the firm’s risk is being passed on to reinsurers.\n",
    "* SCR coverage ratio – a measure of whether a firm is meeting its prudential capital requirements. Greater than 100% means the firm is holding enough capital to meet the requirement. The size of the buffer (i.e. surplus over 100%) can be important.\n",
    "* Gross claims incurred – a large cost to an insurer. Monitoring how these change over timefor a firm is vital.\n",
    "* Net combined ratio – (incurred losses plus expenses) / earned premiums. This is a ratio that can indicate the profitability of a firm. If this is less than 100% it indicates a profit.\n",
    "# Task I\n",
    "Using the data provided, please analyse this data using a programming language of your choosing and produce a short report, including tables and charts, to highlight which firms should receive the most attention, according to the metrics above.\n",
    "# Task II\n",
    "Please consider using relevant ML techniques to draw out further insights and present them as an\n",
    "annex to your report.\n",
    "\n",
    "# Notes:\n",
    "* More metrics have been provided in the data than are necessary to include. Feel free to\n",
    "utilise these as you wish, but it is not necessary to use all metrics.\n",
    "* The data have been anonymised using a random multiplier. As such, there may be some\n",
    "unexpected patterns in the data. "
   ]
  },
  {
   "cell_type": "markdown",
   "id": "bf7f37fd",
   "metadata": {},
   "source": [
    "# Package installtion and loading"
   ]
  },
  {
   "cell_type": "code",
   "execution_count": 1,
   "id": "f71be912",
   "metadata": {},
   "outputs": [
    {
     "name": "stderr",
     "output_type": "stream",
     "text": [
      "Installing package into 'C:/Users/ben/Documents/R/win-library/3.6'\n",
      "(as 'lib' is unspecified)\n"
     ]
    },
    {
     "name": "stdout",
     "output_type": "stream",
     "text": [
      "package 'xlsx' successfully unpacked and MD5 sums checked\n",
      "\n",
      "The downloaded binary packages are in\n",
      "\tC:\\Users\\ben\\AppData\\Local\\Temp\\Rtmpi2Bwd4\\downloaded_packages\n"
     ]
    }
   ],
   "source": [
    "install.packages(\"xlsx\")"
   ]
  },
  {
   "cell_type": "code",
   "execution_count": 2,
   "id": "45e9fac2",
   "metadata": {
    "scrolled": true
   },
   "outputs": [
    {
     "name": "stderr",
     "output_type": "stream",
     "text": [
      "Warning message:\n",
      "\"package 'xlsx' was built under R version 3.6.3\""
     ]
    }
   ],
   "source": [
    "library(xlsx)\n",
    "setwd(\"C:/Users/ben/Documents/GitHub/BoE-Assessment\")"
   ]
  },
  {
   "attachments": {
    "image.png": {
     "image/png": "[encoded data removed]"
    }
   },
   "cell_type": "markdown",
   "id": "a762550a",
   "metadata": {},
   "source": [
    "# Data Loading\n",
    "\n",
    "![image.png](attachment:image.png)\n",
    "\n",
    "* In the first dataset, there are 2 headers rows. I decided it's easier to skip the first header line first, and then append it back to the column names later. I disabled check.names as I don't care too much about duplicated colname for now.\n",
    "* I also noticed that the first column has no header, so I will need to add that in later.\n"
   ]
  },
  {
   "cell_type": "code",
   "execution_count": 3,
   "id": "f4f5f4e1",
   "metadata": {},
   "outputs": [
    {
     "data": {
      "text/plain": [
       "NULL"
      ]
     },
     "metadata": {},
     "output_type": "display_data"
    },
    {
     "data": {
      "text/html": [
       "<style>\n",
       ".list-inline {list-style: none; margin:0; padding: 0}\n",
       ".list-inline>li {display: inline-block}\n",
       ".list-inline>li:not(:last-child)::after {content: \"\\00b7\"; padding: 0 .5ex}\n",
       "</style>\n",
       "<ol class=list-inline><li>1</li><li>40</li></ol>\n"
      ],
      "text/latex": [
       "\\begin{enumerate*}\n",
       "\\item 1\n",
       "\\item 40\n",
       "\\end{enumerate*}\n"
      ],
      "text/markdown": [
       "1. 1\n",
       "2. 40\n",
       "\n",
       "\n"
      ],
      "text/plain": [
       "[1]  1 40"
      ]
     },
     "metadata": {},
     "output_type": "display_data"
    },
    {
     "data": {
      "text/plain": [
       "NULL"
      ]
     },
     "metadata": {},
     "output_type": "display_data"
    },
    {
     "data": {
      "text/html": [
       "<style>\n",
       ".list-inline {list-style: none; margin:0; padding: 0}\n",
       ".list-inline>li {display: inline-block}\n",
       ".list-inline>li:not(:last-child)::after {content: \"\\00b7\"; padding: 0 .5ex}\n",
       "</style>\n",
       "<ol class=list-inline><li>'NWP (£m) '</li><li>'NWP (£m) '</li><li>'NWP (£m) '</li><li>'NWP (£m) '</li><li>'NWP (£m) '</li><li>'SCR (£m)'</li><li>'SCR (£m)'</li><li>'SCR (£m)'</li><li>'SCR (£m)'</li><li>'SCR (£m)'</li><li>'EoF for SCR (£m)'</li><li>'EoF for SCR (£m)'</li><li>'EoF for SCR (£m)'</li><li>'EoF for SCR (£m)'</li><li>'EoF for SCR (£m)'</li><li>'SCR coverage ratio'</li><li>'SCR coverage ratio'</li><li>'SCR coverage ratio'</li><li>'SCR coverage ratio'</li><li>'SCR coverage ratio'</li><li>'GWP (£m)'</li><li>'GWP (£m)'</li><li>'GWP (£m)'</li><li>'GWP (£m)'</li><li>'GWP (£m)'</li><li>'Total assets (£m)'</li><li>'Total assets (£m)'</li><li>'Total assets (£m)'</li><li>'Total assets (£m)'</li><li>'Total assets (£m)'</li><li>'Total liabilities (£m)'</li><li>'Total liabilities (£m)'</li><li>'Total liabilities (£m)'</li><li>'Total liabilities (£m)'</li><li>'Total liabilities (£m)'</li><li>'Excess of assets over liabilities (£m) [= equity]'</li><li>'Excess of assets over liabilities (£m) [= equity]'</li><li>'Excess of assets over liabilities (£m) [= equity]'</li><li>'Excess of assets over liabilities (£m) [= equity]'</li><li>'Excess of assets over liabilities (£m) [= equity]'</li></ol>\n"
      ],
      "text/latex": [
       "\\begin{enumerate*}\n",
       "\\item 'NWP (£m) '\n",
       "\\item 'NWP (£m) '\n",
       "\\item 'NWP (£m) '\n",
       "\\item 'NWP (£m) '\n",
       "\\item 'NWP (£m) '\n",
       "\\item 'SCR (£m)'\n",
       "\\item 'SCR (£m)'\n",
       "\\item 'SCR (£m)'\n",
       "\\item 'SCR (£m)'\n",
       "\\item 'SCR (£m)'\n",
       "\\item 'EoF for SCR (£m)'\n",
       "\\item 'EoF for SCR (£m)'\n",
       "\\item 'EoF for SCR (£m)'\n",
       "\\item 'EoF for SCR (£m)'\n",
       "\\item 'EoF for SCR (£m)'\n",
       "\\item 'SCR coverage ratio'\n",
       "\\item 'SCR coverage ratio'\n",
       "\\item 'SCR coverage ratio'\n",
       "\\item 'SCR coverage ratio'\n",
       "\\item 'SCR coverage ratio'\n",
       "\\item 'GWP (£m)'\n",
       "\\item 'GWP (£m)'\n",
       "\\item 'GWP (£m)'\n",
       "\\item 'GWP (£m)'\n",
       "\\item 'GWP (£m)'\n",
       "\\item 'Total assets (£m)'\n",
       "\\item 'Total assets (£m)'\n",
       "\\item 'Total assets (£m)'\n",
       "\\item 'Total assets (£m)'\n",
       "\\item 'Total assets (£m)'\n",
       "\\item 'Total liabilities (£m)'\n",
       "\\item 'Total liabilities (£m)'\n",
       "\\item 'Total liabilities (£m)'\n",
       "\\item 'Total liabilities (£m)'\n",
       "\\item 'Total liabilities (£m)'\n",
       "\\item 'Excess of assets over liabilities (£m) {[}= equity{]}'\n",
       "\\item 'Excess of assets over liabilities (£m) {[}= equity{]}'\n",
       "\\item 'Excess of assets over liabilities (£m) {[}= equity{]}'\n",
       "\\item 'Excess of assets over liabilities (£m) {[}= equity{]}'\n",
       "\\item 'Excess of assets over liabilities (£m) {[}= equity{]}'\n",
       "\\end{enumerate*}\n"
      ],
      "text/markdown": [
       "1. 'NWP (£m) '\n",
       "2. 'NWP (£m) '\n",
       "3. 'NWP (£m) '\n",
       "4. 'NWP (£m) '\n",
       "5. 'NWP (£m) '\n",
       "6. 'SCR (£m)'\n",
       "7. 'SCR (£m)'\n",
       "8. 'SCR (£m)'\n",
       "9. 'SCR (£m)'\n",
       "10. 'SCR (£m)'\n",
       "11. 'EoF for SCR (£m)'\n",
       "12. 'EoF for SCR (£m)'\n",
       "13. 'EoF for SCR (£m)'\n",
       "14. 'EoF for SCR (£m)'\n",
       "15. 'EoF for SCR (£m)'\n",
       "16. 'SCR coverage ratio'\n",
       "17. 'SCR coverage ratio'\n",
       "18. 'SCR coverage ratio'\n",
       "19. 'SCR coverage ratio'\n",
       "20. 'SCR coverage ratio'\n",
       "21. 'GWP (£m)'\n",
       "22. 'GWP (£m)'\n",
       "23. 'GWP (£m)'\n",
       "24. 'GWP (£m)'\n",
       "25. 'GWP (£m)'\n",
       "26. 'Total assets (£m)'\n",
       "27. 'Total assets (£m)'\n",
       "28. 'Total assets (£m)'\n",
       "29. 'Total assets (£m)'\n",
       "30. 'Total assets (£m)'\n",
       "31. 'Total liabilities (£m)'\n",
       "32. 'Total liabilities (£m)'\n",
       "33. 'Total liabilities (£m)'\n",
       "34. 'Total liabilities (£m)'\n",
       "35. 'Total liabilities (£m)'\n",
       "36. 'Excess of assets over liabilities (£m) [= equity]'\n",
       "37. 'Excess of assets over liabilities (£m) [= equity]'\n",
       "38. 'Excess of assets over liabilities (£m) [= equity]'\n",
       "39. 'Excess of assets over liabilities (£m) [= equity]'\n",
       "40. 'Excess of assets over liabilities (£m) [= equity]'\n",
       "\n",
       "\n"
      ],
      "text/plain": [
       " [1] \"NWP (£m) \"                                        \n",
       " [2] \"NWP (£m) \"                                        \n",
       " [3] \"NWP (£m) \"                                        \n",
       " [4] \"NWP (£m) \"                                        \n",
       " [5] \"NWP (£m) \"                                        \n",
       " [6] \"SCR (£m)\"                                         \n",
       " [7] \"SCR (£m)\"                                         \n",
       " [8] \"SCR (£m)\"                                         \n",
       " [9] \"SCR (£m)\"                                         \n",
       "[10] \"SCR (£m)\"                                         \n",
       "[11] \"EoF for SCR (£m)\"                                 \n",
       "[12] \"EoF for SCR (£m)\"                                 \n",
       "[13] \"EoF for SCR (£m)\"                                 \n",
       "[14] \"EoF for SCR (£m)\"                                 \n",
       "[15] \"EoF for SCR (£m)\"                                 \n",
       "[16] \"SCR coverage ratio\"                               \n",
       "[17] \"SCR coverage ratio\"                               \n",
       "[18] \"SCR coverage ratio\"                               \n",
       "[19] \"SCR coverage ratio\"                               \n",
       "[20] \"SCR coverage ratio\"                               \n",
       "[21] \"GWP (£m)\"                                         \n",
       "[22] \"GWP (£m)\"                                         \n",
       "[23] \"GWP (£m)\"                                         \n",
       "[24] \"GWP (£m)\"                                         \n",
       "[25] \"GWP (£m)\"                                         \n",
       "[26] \"Total assets (£m)\"                                \n",
       "[27] \"Total assets (£m)\"                                \n",
       "[28] \"Total assets (£m)\"                                \n",
       "[29] \"Total assets (£m)\"                                \n",
       "[30] \"Total assets (£m)\"                                \n",
       "[31] \"Total liabilities (£m)\"                           \n",
       "[32] \"Total liabilities (£m)\"                           \n",
       "[33] \"Total liabilities (£m)\"                           \n",
       "[34] \"Total liabilities (£m)\"                           \n",
       "[35] \"Total liabilities (£m)\"                           \n",
       "[36] \"Excess of assets over liabilities (£m) [= equity]\"\n",
       "[37] \"Excess of assets over liabilities (£m) [= equity]\"\n",
       "[38] \"Excess of assets over liabilities (£m) [= equity]\"\n",
       "[39] \"Excess of assets over liabilities (£m) [= equity]\"\n",
       "[40] \"Excess of assets over liabilities (£m) [= equity]\""
      ]
     },
     "metadata": {},
     "output_type": "display_data"
    }
   ],
   "source": [
    "## Read table\n",
    "df1 <- read.xlsx(\"Data for technical assessment.xlsx\", \n",
    "                sheetIndex = 1,\n",
    "                check.names = FALSE,\n",
    "                startRow = 2)\n",
    "\n",
    "## Read first headerline\n",
    "h1 <- read.xlsx(\"Data for technical assessment.xlsx\", \n",
    "                sheetIndex = 1, \n",
    "                rowIndex = c(1,2), \n",
    "                check.names = FALSE, \n",
    "                encoding = \"UTF-8\")\n",
    "# Check tables\n",
    "dim(df)\n",
    "dim(h1)\n",
    "\n",
    "# Check names\n",
    "names(df)\n",
    "names(h1)"
   ]
  },
  {
   "cell_type": "code",
   "execution_count": 4,
   "id": "275d29fe",
   "metadata": {},
   "outputs": [
    {
     "data": {
      "text/plain": [
       "\n",
       "                                 EoF for SCR (£m) \n",
       "                                                5 \n",
       "Excess of assets over liabilities (£m) [= equity] \n",
       "                                                5 \n",
       "                                         GWP (£m) \n",
       "                                                5 \n",
       "                                        NWP (£m)  \n",
       "                                                5 \n",
       "                                         SCR (£m) \n",
       "                                                5 \n",
       "                               SCR coverage ratio \n",
       "                                                5 \n",
       "                                Total assets (£m) \n",
       "                                                5 \n",
       "                           Total liabilities (£m) \n",
       "                                                5 "
      ]
     },
     "metadata": {},
     "output_type": "display_data"
    }
   ],
   "source": [
    "table(names(h1))"
   ]
  },
  {
   "cell_type": "code",
   "execution_count": 5,
   "id": "d8b7e9de",
   "metadata": {},
   "outputs": [
    {
     "data": {
      "text/plain": [
       "< table of extent 0 >"
      ]
     },
     "metadata": {},
     "output_type": "display_data"
    }
   ],
   "source": [
    "table(names(df))"
   ]
  },
  {
   "cell_type": "code",
   "execution_count": null,
   "id": "c4ae2826",
   "metadata": {},
   "outputs": [],
   "source": []
  }
 ],
 "metadata": {
  "kernelspec": {
   "display_name": "R",
   "language": "R",
   "name": "ir"
  },
  "language_info": {
   "codemirror_mode": "r",
   "file_extension": ".r",
   "mimetype": "text/x-r-source",
   "name": "R",
   "pygments_lexer": "r",
   "version": "3.6.1"
  }
 },
 "nbformat": 4,
 "nbformat_minor": 5
}
